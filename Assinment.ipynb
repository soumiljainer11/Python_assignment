{
  "nbformat": 4,
  "nbformat_minor": 0,
  "metadata": {
    "colab": {
      "provenance": [],
      "collapsed_sections": [
        "1E49xRlTH-Gq",
        "T_h8GEdWR7-N",
        "OtsnB60Gnbv5",
        "twqCaolArXNZ",
        "3GDcOVZ4xm7W",
        "VcQ9zoeSC2zP",
        "e8bkfB0sHzDe"
      ],
      "authorship_tag": "ABX9TyN4b/EUZq9M0Oqkpkjqx/s5",
      "include_colab_link": true
    },
    "kernelspec": {
      "name": "python3",
      "display_name": "Python 3"
    },
    "language_info": {
      "name": "python"
    }
  },
  "cells": [
    {
      "cell_type": "markdown",
      "metadata": {
        "id": "view-in-github",
        "colab_type": "text"
      },
      "source": [
        "<a href=\"https://colab.research.google.com/github/soumiljainer11/Python_assignment/blob/main/Assinment.ipynb\" target=\"_parent\"><img src=\"https://colab.research.google.com/assets/colab-badge.svg\" alt=\"Open In Colab\"/></a>"
      ]
    },
    {
      "cell_type": "markdown",
      "source": [
        "##1"
      ],
      "metadata": {
        "id": "1E49xRlTH-Gq"
      }
    },
    {
      "cell_type": "code",
      "execution_count": 98,
      "metadata": {
        "id": "NH01eq9jJrLl"
      },
      "outputs": [],
      "source": [
        "L=[11,12,13,14]"
      ]
    },
    {
      "cell_type": "code",
      "source": [
        "# 1 add 50 and 60 to L\n",
        "L.append(50)\n",
        "L.append(50)\n",
        "print(L)"
      ],
      "metadata": {
        "colab": {
          "base_uri": "https://localhost:8080/"
        },
        "id": "BFX1msNjJ8gD",
        "outputId": "f0c8a552-660e-4271-843e-ac029a80ff79"
      },
      "execution_count": 99,
      "outputs": [
        {
          "output_type": "stream",
          "name": "stdout",
          "text": [
            "[11, 12, 13, 14, 50, 50]\n"
          ]
        }
      ]
    },
    {
      "cell_type": "code",
      "source": [
        "L.insert(5,60)\n",
        "print(L)"
      ],
      "metadata": {
        "colab": {
          "base_uri": "https://localhost:8080/"
        },
        "id": "UQdVzqn2KHGE",
        "outputId": "69793007-7000-4dad-f110-e0c463736afb"
      },
      "execution_count": 100,
      "outputs": [
        {
          "output_type": "stream",
          "name": "stdout",
          "text": [
            "[11, 12, 13, 14, 50, 60, 50]\n"
          ]
        }
      ]
    },
    {
      "cell_type": "code",
      "source": [
        "L.pop(6)"
      ],
      "metadata": {
        "colab": {
          "base_uri": "https://localhost:8080/"
        },
        "id": "MFyJN3jzKPkO",
        "outputId": "a5b18236-03dd-4ca4-c562-ca6dba26891b"
      },
      "execution_count": 101,
      "outputs": [
        {
          "output_type": "execute_result",
          "data": {
            "text/plain": [
              "50"
            ]
          },
          "metadata": {},
          "execution_count": 101
        }
      ]
    },
    {
      "cell_type": "code",
      "source": [
        "print(L)"
      ],
      "metadata": {
        "colab": {
          "base_uri": "https://localhost:8080/"
        },
        "id": "ac6lIoHlKp4Q",
        "outputId": "eeef3e01-7864-43e9-d4a2-203c7db98c9f"
      },
      "execution_count": 102,
      "outputs": [
        {
          "output_type": "stream",
          "name": "stdout",
          "text": [
            "[11, 12, 13, 14, 50, 60]\n"
          ]
        }
      ]
    },
    {
      "cell_type": "markdown",
      "source": [
        "1.2 remove 11 and 13"
      ],
      "metadata": {
        "id": "vpzAhjwWKvII"
      }
    },
    {
      "cell_type": "code",
      "source": [
        "L.pop(0)\n",
        "L.pop(1)\n",
        "print(L)"
      ],
      "metadata": {
        "colab": {
          "base_uri": "https://localhost:8080/"
        },
        "id": "8DCyTVwPKzWo",
        "outputId": "01c2984b-a82a-4cdd-c0e3-e3a9cad41869"
      },
      "execution_count": 103,
      "outputs": [
        {
          "output_type": "stream",
          "name": "stdout",
          "text": [
            "[12, 14, 50, 60]\n"
          ]
        }
      ]
    },
    {
      "cell_type": "markdown",
      "source": [
        "1.3 ascending sorting L and 1.4 descending sorting"
      ],
      "metadata": {
        "id": "fgR6LXPvLkC6"
      }
    },
    {
      "cell_type": "code",
      "source": [
        "L.sort()\n",
        "print(L)"
      ],
      "metadata": {
        "colab": {
          "base_uri": "https://localhost:8080/"
        },
        "id": "ZMxUSeLALllt",
        "outputId": "f3c0e351-3900-41e7-f5d6-65b482057f7a"
      },
      "execution_count": 104,
      "outputs": [
        {
          "output_type": "stream",
          "name": "stdout",
          "text": [
            "[12, 14, 50, 60]\n"
          ]
        }
      ]
    },
    {
      "cell_type": "code",
      "source": [
        "L.sort(reverse=True)\n",
        "print(L)"
      ],
      "metadata": {
        "colab": {
          "base_uri": "https://localhost:8080/"
        },
        "id": "uKTQNFH1L0f1",
        "outputId": "21c43c29-8305-4986-ffdf-d3d6c4a35dfb"
      },
      "execution_count": 105,
      "outputs": [
        {
          "output_type": "stream",
          "name": "stdout",
          "text": [
            "[60, 50, 14, 12]\n"
          ]
        }
      ]
    },
    {
      "cell_type": "markdown",
      "source": [
        "1.5 search 13"
      ],
      "metadata": {
        "id": "fpw-8dajMGki"
      }
    },
    {
      "cell_type": "code",
      "source": [
        "if(13 in L):\n",
        "  print(\"Present\")\n",
        "else:\n",
        "  print(\"Not present\")"
      ],
      "metadata": {
        "colab": {
          "base_uri": "https://localhost:8080/"
        },
        "id": "TujVpwhbMFB8",
        "outputId": "f1d0b04b-5acc-4b77-9bcc-6d786f3179fa"
      },
      "execution_count": 106,
      "outputs": [
        {
          "output_type": "stream",
          "name": "stdout",
          "text": [
            "Not present\n"
          ]
        }
      ]
    },
    {
      "cell_type": "markdown",
      "source": [
        "1.6 count elements"
      ],
      "metadata": {
        "id": "CNtDKG3iM-lb"
      }
    },
    {
      "cell_type": "code",
      "source": [
        "print(L)"
      ],
      "metadata": {
        "colab": {
          "base_uri": "https://localhost:8080/"
        },
        "id": "k40u4SVkNKah",
        "outputId": "fee1d102-0ac2-4ab5-edbb-67fa89e04824"
      },
      "execution_count": 107,
      "outputs": [
        {
          "output_type": "stream",
          "name": "stdout",
          "text": [
            "[60, 50, 14, 12]\n"
          ]
        }
      ]
    },
    {
      "cell_type": "code",
      "source": [
        "length=len(L)\n",
        "print(length)"
      ],
      "metadata": {
        "colab": {
          "base_uri": "https://localhost:8080/"
        },
        "id": "yuyO9HvENA4B",
        "outputId": "05b0dd51-75d1-4b6f-b5d5-4e77b9ceded6"
      },
      "execution_count": 108,
      "outputs": [
        {
          "output_type": "stream",
          "name": "stdout",
          "text": [
            "4\n"
          ]
        }
      ]
    },
    {
      "cell_type": "markdown",
      "source": [
        "1.7 sum of all elements in L"
      ],
      "metadata": {
        "id": "0Ufp-YjqNO-j"
      }
    },
    {
      "cell_type": "code",
      "source": [
        "s=0\n",
        "for i in L:\n",
        "  s+=i\n",
        "print(s)"
      ],
      "metadata": {
        "colab": {
          "base_uri": "https://localhost:8080/"
        },
        "id": "-iXsUj8xNOE4",
        "outputId": "d0a96e64-7c60-4e96-c0ac-ca86a7bd64e9"
      },
      "execution_count": 109,
      "outputs": [
        {
          "output_type": "stream",
          "name": "stdout",
          "text": [
            "136\n"
          ]
        }
      ]
    },
    {
      "cell_type": "markdown",
      "source": [
        "1.8 sum of all odd placed"
      ],
      "metadata": {
        "id": "GT0jnVqUN8jY"
      }
    },
    {
      "cell_type": "code",
      "source": [
        "so=0\n",
        "for i in range(0,length,2):\n",
        "  so+=L[i]\n",
        "\n",
        "print(so)"
      ],
      "metadata": {
        "colab": {
          "base_uri": "https://localhost:8080/"
        },
        "id": "knHdW_csN7V1",
        "outputId": "ad63182f-30fd-4f5c-cab5-134174ffb678"
      },
      "execution_count": 110,
      "outputs": [
        {
          "output_type": "stream",
          "name": "stdout",
          "text": [
            "74\n"
          ]
        }
      ]
    },
    {
      "cell_type": "markdown",
      "source": [
        "1.8 sum of all odd numbers"
      ],
      "metadata": {
        "id": "eqaBQ3q-O0Er"
      }
    },
    {
      "cell_type": "code",
      "source": [
        "sumo=0\n",
        "for i in range(0,length):\n",
        "  if(L[i]%2!=0):\n",
        "    sumo+=L[i]\n",
        "\n",
        "print(sumo)"
      ],
      "metadata": {
        "colab": {
          "base_uri": "https://localhost:8080/"
        },
        "id": "RuGUmYWiO2TW",
        "outputId": "fa3b6e5a-517d-40b6-d6dc-a5daa228c71e"
      },
      "execution_count": 111,
      "outputs": [
        {
          "output_type": "stream",
          "name": "stdout",
          "text": [
            "0\n"
          ]
        }
      ]
    },
    {
      "cell_type": "markdown",
      "source": [
        "1.9 sum of even numbers"
      ],
      "metadata": {
        "id": "DyvPYsjvPP29"
      }
    },
    {
      "cell_type": "code",
      "source": [
        "sume=0\n",
        "\n",
        "for i in range(0,length):\n",
        "  if(L[i]%2==0):\n",
        "    sume+=L[i]\n",
        "\n",
        "print(sume)"
      ],
      "metadata": {
        "colab": {
          "base_uri": "https://localhost:8080/"
        },
        "id": "YLc_hD-rPR_X",
        "outputId": "6eb354f6-b618-445a-9848-60d0454e2991"
      },
      "execution_count": 112,
      "outputs": [
        {
          "output_type": "stream",
          "name": "stdout",
          "text": [
            "136\n"
          ]
        }
      ]
    },
    {
      "cell_type": "markdown",
      "source": [
        "1.10 sum of all prime numbers"
      ],
      "metadata": {
        "id": "9aFRBSKPPhvO"
      }
    },
    {
      "cell_type": "code",
      "source": [
        "# sump=0\n",
        "# f=0\n",
        "# for i in range(0,length):\n",
        "#   for j in range(2,L[i]//2+1):\n",
        "#     if(L[i]%j==0):\n",
        "#       f=1\n",
        "#       break\n",
        "#   if(f==0):\n",
        "#     sump+=L[i]\n",
        "\n",
        "# print(sump)"
      ],
      "metadata": {
        "id": "hlSpX23bPkdh"
      },
      "execution_count": 113,
      "outputs": []
    },
    {
      "cell_type": "code",
      "source": [
        "L.append(5)\n",
        "print(L)"
      ],
      "metadata": {
        "colab": {
          "base_uri": "https://localhost:8080/"
        },
        "id": "FSru_g-LQpcd",
        "outputId": "dc00de41-0abe-45fa-b8f3-caf2f189e555"
      },
      "execution_count": 114,
      "outputs": [
        {
          "output_type": "stream",
          "name": "stdout",
          "text": [
            "[60, 50, 14, 12, 5]\n"
          ]
        }
      ]
    },
    {
      "cell_type": "code",
      "source": [
        "length=len(L)\n",
        "print(length)"
      ],
      "metadata": {
        "colab": {
          "base_uri": "https://localhost:8080/"
        },
        "id": "IwYRF79FRH9F",
        "outputId": "f233f06c-5bf6-4ca2-aba3-d51a0e78c9d0"
      },
      "execution_count": 115,
      "outputs": [
        {
          "output_type": "stream",
          "name": "stdout",
          "text": [
            "5\n"
          ]
        }
      ]
    },
    {
      "cell_type": "code",
      "source": [
        "sump=0\n",
        "f=0\n",
        "for i in range(0,length):\n",
        "  f=0\n",
        "  for j in range(2,L[i]//2 + 1):\n",
        "    if(L[i]%j==0):\n",
        "      f=1\n",
        "      break\n",
        "  if(f==0):\n",
        "    sump+=L[i]\n",
        "\n",
        "print(sump)"
      ],
      "metadata": {
        "colab": {
          "base_uri": "https://localhost:8080/"
        },
        "id": "ASv3ONStQuJu",
        "outputId": "970c5a2f-48ef-467a-838b-94ca3f283a65"
      },
      "execution_count": 116,
      "outputs": [
        {
          "output_type": "stream",
          "name": "stdout",
          "text": [
            "5\n"
          ]
        }
      ]
    },
    {
      "cell_type": "markdown",
      "source": [
        "clear all elements in L"
      ],
      "metadata": {
        "id": "xlvEM9KYReP1"
      }
    },
    {
      "cell_type": "code",
      "source": [
        "L.clear()"
      ],
      "metadata": {
        "id": "zObW2epRRgnC"
      },
      "execution_count": 117,
      "outputs": []
    },
    {
      "cell_type": "code",
      "source": [
        "print(L)"
      ],
      "metadata": {
        "colab": {
          "base_uri": "https://localhost:8080/"
        },
        "id": "A_yR8xDVRrZ0",
        "outputId": "61e264fb-33ae-44e6-990f-fb252b9ade66"
      },
      "execution_count": 118,
      "outputs": [
        {
          "output_type": "stream",
          "name": "stdout",
          "text": [
            "[]\n"
          ]
        }
      ]
    },
    {
      "cell_type": "markdown",
      "source": [
        "1.12 delete L"
      ],
      "metadata": {
        "id": "vzsYf6mnRuMR"
      }
    },
    {
      "cell_type": "code",
      "source": [
        "del L"
      ],
      "metadata": {
        "id": "RXeop7keRtpT"
      },
      "execution_count": 119,
      "outputs": []
    },
    {
      "cell_type": "code",
      "source": [
        "print(L)"
      ],
      "metadata": {
        "colab": {
          "base_uri": "https://localhost:8080/",
          "height": 141
        },
        "id": "1dXSOHDUR5wT",
        "outputId": "350f331d-c12a-4651-ee26-a1ec76be455e"
      },
      "execution_count": 120,
      "outputs": [
        {
          "output_type": "error",
          "ename": "NameError",
          "evalue": "name 'L' is not defined",
          "traceback": [
            "\u001b[0;31m---------------------------------------------------------------------------\u001b[0m",
            "\u001b[0;31mNameError\u001b[0m                                 Traceback (most recent call last)",
            "\u001b[0;32m<ipython-input-120-70501d4a5d78>\u001b[0m in \u001b[0;36m<cell line: 1>\u001b[0;34m()\u001b[0m\n\u001b[0;32m----> 1\u001b[0;31m \u001b[0mprint\u001b[0m\u001b[0;34m(\u001b[0m\u001b[0mL\u001b[0m\u001b[0;34m)\u001b[0m\u001b[0;34m\u001b[0m\u001b[0;34m\u001b[0m\u001b[0m\n\u001b[0m",
            "\u001b[0;31mNameError\u001b[0m: name 'L' is not defined"
          ]
        }
      ]
    },
    {
      "cell_type": "markdown",
      "source": [
        "##2"
      ],
      "metadata": {
        "id": "T_h8GEdWR7-N"
      }
    },
    {
      "cell_type": "code",
      "source": [
        "D={1:5.6,2:7.8,3:6.6,4:8.7,5:7.7}"
      ],
      "metadata": {
        "id": "NCJ_NUiSSAM6"
      },
      "execution_count": 121,
      "outputs": []
    },
    {
      "cell_type": "markdown",
      "source": [
        "2.1 add new entry with key 8 and value 8.8"
      ],
      "metadata": {
        "id": "m-LywWpqSQaD"
      }
    },
    {
      "cell_type": "code",
      "source": [
        "D[8]=8.8"
      ],
      "metadata": {
        "id": "ZAXViWoxSPBw"
      },
      "execution_count": 122,
      "outputs": []
    },
    {
      "cell_type": "code",
      "source": [
        "print(D)"
      ],
      "metadata": {
        "colab": {
          "base_uri": "https://localhost:8080/"
        },
        "id": "nAnRHLVOlvOq",
        "outputId": "0473526d-4f30-449e-839c-c50477c54fce"
      },
      "execution_count": 123,
      "outputs": [
        {
          "output_type": "stream",
          "name": "stdout",
          "text": [
            "{1: 5.6, 2: 7.8, 3: 6.6, 4: 8.7, 5: 7.7, 8: 8.8}\n"
          ]
        }
      ]
    },
    {
      "cell_type": "markdown",
      "source": [
        "2.2 remove key 2"
      ],
      "metadata": {
        "id": "WGua2sE1ly_M"
      }
    },
    {
      "cell_type": "code",
      "source": [
        "del D[2]"
      ],
      "metadata": {
        "id": "Z4w0hlZ4l0Pt"
      },
      "execution_count": 124,
      "outputs": []
    },
    {
      "cell_type": "code",
      "source": [
        "print(D)"
      ],
      "metadata": {
        "colab": {
          "base_uri": "https://localhost:8080/"
        },
        "id": "D1daVzY-l6aZ",
        "outputId": "4c98b06b-076d-44ab-b70f-75f6caa73e09"
      },
      "execution_count": 125,
      "outputs": [
        {
          "output_type": "stream",
          "name": "stdout",
          "text": [
            "{1: 5.6, 3: 6.6, 4: 8.7, 5: 7.7, 8: 8.8}\n"
          ]
        }
      ]
    },
    {
      "cell_type": "markdown",
      "source": [
        "2.3 6 key present"
      ],
      "metadata": {
        "id": "myQqX2lHmNgq"
      }
    },
    {
      "cell_type": "code",
      "source": [
        "print(6 in D)"
      ],
      "metadata": {
        "colab": {
          "base_uri": "https://localhost:8080/"
        },
        "id": "1ZnbCcKKl8ps",
        "outputId": "3c2f9782-55a8-41f1-d5e9-4bd80e3aea2b"
      },
      "execution_count": 126,
      "outputs": [
        {
          "output_type": "stream",
          "name": "stdout",
          "text": [
            "False\n"
          ]
        }
      ]
    },
    {
      "cell_type": "markdown",
      "source": [
        "no. of elements in D"
      ],
      "metadata": {
        "id": "_D_HaMyJmVK_"
      }
    },
    {
      "cell_type": "code",
      "source": [
        "print(\"No. of elements: \", len(D))"
      ],
      "metadata": {
        "colab": {
          "base_uri": "https://localhost:8080/"
        },
        "id": "mPJVDrR-mXPD",
        "outputId": "16f3ccaf-5ed2-4994-caf4-64b7bacd9314"
      },
      "execution_count": 127,
      "outputs": [
        {
          "output_type": "stream",
          "name": "stdout",
          "text": [
            "No. of elements:  5\n"
          ]
        }
      ]
    },
    {
      "cell_type": "markdown",
      "source": [
        "Add all values present in D"
      ],
      "metadata": {
        "id": "0nepdwpEmmTd"
      }
    },
    {
      "cell_type": "code",
      "source": [
        "dsum=0\n",
        "\n",
        "for i in D:\n",
        "  dsum+=D[i]\n",
        "\n",
        "print(dsum)"
      ],
      "metadata": {
        "colab": {
          "base_uri": "https://localhost:8080/"
        },
        "id": "aTB27XUumoRF",
        "outputId": "e64fe748-1936-414d-a277-29ba0dc5df4f"
      },
      "execution_count": 128,
      "outputs": [
        {
          "output_type": "stream",
          "name": "stdout",
          "text": [
            "37.4\n"
          ]
        }
      ]
    },
    {
      "cell_type": "markdown",
      "source": [
        "2.6 update 3 to 7.1"
      ],
      "metadata": {
        "id": "6E-44eqjnALu"
      }
    },
    {
      "cell_type": "code",
      "source": [
        "print(D)"
      ],
      "metadata": {
        "colab": {
          "base_uri": "https://localhost:8080/"
        },
        "id": "TYPPIBKxm_T-",
        "outputId": "d70ef052-fb58-4464-f830-19e0d53a756f"
      },
      "execution_count": 129,
      "outputs": [
        {
          "output_type": "stream",
          "name": "stdout",
          "text": [
            "{1: 5.6, 3: 6.6, 4: 8.7, 5: 7.7, 8: 8.8}\n"
          ]
        }
      ]
    },
    {
      "cell_type": "code",
      "source": [
        "D[3]=7.1"
      ],
      "metadata": {
        "id": "iGatWvZWnMOW"
      },
      "execution_count": 130,
      "outputs": []
    },
    {
      "cell_type": "code",
      "source": [
        "print(D)"
      ],
      "metadata": {
        "colab": {
          "base_uri": "https://localhost:8080/"
        },
        "id": "lvZy7etvnRFg",
        "outputId": "34871c07-efa1-49b6-df63-36abedc7188c"
      },
      "execution_count": 131,
      "outputs": [
        {
          "output_type": "stream",
          "name": "stdout",
          "text": [
            "{1: 5.6, 3: 7.1, 4: 8.7, 5: 7.7, 8: 8.8}\n"
          ]
        }
      ]
    },
    {
      "cell_type": "markdown",
      "source": [
        "2.7 clear dictionary"
      ],
      "metadata": {
        "id": "pr3bWIiJnTPK"
      }
    },
    {
      "cell_type": "code",
      "source": [
        "D.clear()"
      ],
      "metadata": {
        "id": "Ouh5N1hUnVTK"
      },
      "execution_count": 132,
      "outputs": []
    },
    {
      "cell_type": "code",
      "source": [
        "print(D)"
      ],
      "metadata": {
        "colab": {
          "base_uri": "https://localhost:8080/"
        },
        "id": "VkJGIzWnnZqx",
        "outputId": "38419a38-7abd-408e-b82e-c098ef52f56b"
      },
      "execution_count": 133,
      "outputs": [
        {
          "output_type": "stream",
          "name": "stdout",
          "text": [
            "{}\n"
          ]
        }
      ]
    },
    {
      "cell_type": "markdown",
      "source": [
        "##3"
      ],
      "metadata": {
        "id": "OtsnB60Gnbv5"
      }
    },
    {
      "cell_type": "code",
      "source": [
        "S1=set([10,20,30,40,50,60])\n",
        "S2=set([40,50,60,70,80,90])"
      ],
      "metadata": {
        "id": "KNgaodSincp4"
      },
      "execution_count": 134,
      "outputs": []
    },
    {
      "cell_type": "markdown",
      "source": [
        "3.1 Add 55 and 66 in set1"
      ],
      "metadata": {
        "id": "QXVuWCwLn1DP"
      }
    },
    {
      "cell_type": "code",
      "source": [
        "S1.add(55)\n",
        "S1.add(66)\n",
        "print(S1)"
      ],
      "metadata": {
        "colab": {
          "base_uri": "https://localhost:8080/"
        },
        "id": "dBPm-1DmnzMY",
        "outputId": "a4ed4883-e8ce-41bc-90e0-7ac54d7a2fa2"
      },
      "execution_count": 135,
      "outputs": [
        {
          "output_type": "stream",
          "name": "stdout",
          "text": [
            "{66, 40, 10, 50, 20, 55, 60, 30}\n"
          ]
        }
      ]
    },
    {
      "cell_type": "code",
      "source": [
        "S1.remove(10)\n",
        "S1.remove(30)\n",
        "print(S1)"
      ],
      "metadata": {
        "colab": {
          "base_uri": "https://localhost:8080/"
        },
        "id": "Sjlz1n9IqMej",
        "outputId": "036a5adb-a193-409f-a955-7410b108aa82"
      },
      "execution_count": 136,
      "outputs": [
        {
          "output_type": "stream",
          "name": "stdout",
          "text": [
            "{66, 40, 50, 20, 55, 60}\n"
          ]
        }
      ]
    },
    {
      "cell_type": "code",
      "source": [
        "if 40 in S1:\n",
        "  print(\"Present\")"
      ],
      "metadata": {
        "colab": {
          "base_uri": "https://localhost:8080/"
        },
        "id": "bN81HSycqZeQ",
        "outputId": "c213888d-8add-4b88-97cd-5d7c99c0893c"
      },
      "execution_count": 137,
      "outputs": [
        {
          "output_type": "stream",
          "name": "stdout",
          "text": [
            "Present\n"
          ]
        }
      ]
    },
    {
      "cell_type": "code",
      "source": [
        "print(\"S1: \",S1)\n",
        "print(\"S2: \",S2)"
      ],
      "metadata": {
        "colab": {
          "base_uri": "https://localhost:8080/"
        },
        "id": "BBo8Qn2KrLeW",
        "outputId": "35216522-7cd3-4640-b2b6-e756bd23162d"
      },
      "execution_count": 138,
      "outputs": [
        {
          "output_type": "stream",
          "name": "stdout",
          "text": [
            "S1:  {66, 40, 50, 20, 55, 60}\n",
            "S2:  {70, 40, 80, 50, 90, 60}\n"
          ]
        }
      ]
    },
    {
      "cell_type": "code",
      "source": [
        "uni=S1.union(S2)\n",
        "print(uni)"
      ],
      "metadata": {
        "colab": {
          "base_uri": "https://localhost:8080/"
        },
        "id": "k7UbAuElqrRg",
        "outputId": "ded425a0-9f5e-427d-b2bf-f5fcfb39e260"
      },
      "execution_count": 139,
      "outputs": [
        {
          "output_type": "stream",
          "name": "stdout",
          "text": [
            "{66, 70, 40, 80, 50, 20, 55, 90, 60}\n"
          ]
        }
      ]
    },
    {
      "cell_type": "code",
      "source": [
        "inter=S1.intersection(S2)\n",
        "print(inter)"
      ],
      "metadata": {
        "colab": {
          "base_uri": "https://localhost:8080/"
        },
        "id": "grHcIqb3q6Vr",
        "outputId": "f025cd3c-66c5-4078-9c8e-d49debaad58c"
      },
      "execution_count": 140,
      "outputs": [
        {
          "output_type": "stream",
          "name": "stdout",
          "text": [
            "{40, 50, 60}\n"
          ]
        }
      ]
    },
    {
      "cell_type": "code",
      "source": [
        "dif=S1.difference(S2)\n",
        "print(dif)"
      ],
      "metadata": {
        "colab": {
          "base_uri": "https://localhost:8080/"
        },
        "id": "5JvQBOzGrADN",
        "outputId": "d096e78d-bd4a-4c85-d68b-9030cfe3edc1"
      },
      "execution_count": 141,
      "outputs": [
        {
          "output_type": "stream",
          "name": "stdout",
          "text": [
            "{66, 20, 55}\n"
          ]
        }
      ]
    },
    {
      "cell_type": "markdown",
      "source": [
        "##4"
      ],
      "metadata": {
        "id": "twqCaolArXNZ"
      }
    },
    {
      "cell_type": "code",
      "source": [
        "import random as r"
      ],
      "metadata": {
        "id": "8NvR6MmOrX6O"
      },
      "execution_count": 142,
      "outputs": []
    },
    {
      "cell_type": "code",
      "source": [
        "import string as s"
      ],
      "metadata": {
        "id": "6xBWmhZ9rbcN"
      },
      "execution_count": 143,
      "outputs": []
    },
    {
      "cell_type": "markdown",
      "source": [
        "4.1 100 random strings whose length varies from 6 to 8"
      ],
      "metadata": {
        "id": "nIkvF48PwbuY"
      }
    },
    {
      "cell_type": "code",
      "source": [
        "letters=s.ascii_letters+s.digits\n",
        "print(letters)"
      ],
      "metadata": {
        "colab": {
          "base_uri": "https://localhost:8080/"
        },
        "id": "uyn7E0NnsLCK",
        "outputId": "f44c2916-aa30-4281-aebc-2287f8f80e23"
      },
      "execution_count": 144,
      "outputs": [
        {
          "output_type": "stream",
          "name": "stdout",
          "text": [
            "abcdefghijklmnopqrstuvwxyzABCDEFGHIJKLMNOPQRSTUVWXYZ0123456789\n"
          ]
        }
      ]
    },
    {
      "cell_type": "code",
      "source": [
        "# k>=6 and k<=8\n",
        "\n",
        "for i in range (1,101):\n",
        "  print(i,\": \", r.sample(letters,r.randint(6,8)))"
      ],
      "metadata": {
        "colab": {
          "base_uri": "https://localhost:8080/"
        },
        "collapsed": true,
        "id": "xFc_sTCfsYCL",
        "outputId": "e02a96e3-10ae-48a5-a0ab-e21777ca4606"
      },
      "execution_count": 145,
      "outputs": [
        {
          "output_type": "stream",
          "name": "stdout",
          "text": [
            "1 :  ['H', '0', 'K', 't', 's', 'U', '7', 'A']\n",
            "2 :  ['1', '6', 'o', 't', '9', 'z']\n",
            "3 :  ['k', '1', 'D', '0', 'e', 'R']\n",
            "4 :  ['K', '0', 'p', 'X', 'o', 'c']\n",
            "5 :  ['r', '6', 'F', '4', 'L', 'V', 'x', 'l']\n",
            "6 :  ['M', 'p', 'd', 't', 'c', 'b']\n",
            "7 :  ['S', 'U', 'P', 'e', 'R', 'Z', 'I', 'N']\n",
            "8 :  ['i', 'a', 'G', 'V', 'h', 'j']\n",
            "9 :  ['n', 'w', 'Q', 'd', '0', 'H']\n",
            "10 :  ['u', 'D', 'o', 'x', 'v', 'h', 'M', 'E']\n",
            "11 :  ['g', 'J', '9', 'X', 'x', 'N', 'e', 'f']\n",
            "12 :  ['t', 'S', 'b', 'w', 'd', 'x']\n",
            "13 :  ['L', 't', 'm', 'q', 'N', 'A']\n",
            "14 :  ['0', 'G', 'g', 'o', '2', '3', 'c', '6']\n",
            "15 :  ['Q', 'c', 'y', 's', 'L', 'k', 'D']\n",
            "16 :  ['k', 'L', '8', 'X', 'b', 'z']\n",
            "17 :  ['V', 's', 'I', 'R', '6', 'i', 'Q']\n",
            "18 :  ['C', 'N', 'T', '8', 'c', 'b']\n",
            "19 :  ['2', 'Z', 'Q', 'L', 'y', '3']\n",
            "20 :  ['Q', 'h', '5', 'm', 'k', '8', 'E']\n",
            "21 :  ['w', 'W', 'k', '5', 'Y', 'N']\n",
            "22 :  ['f', 'S', 'W', 'm', 'j', 'K', '1']\n",
            "23 :  ['n', '1', 'V', 'l', 'S', 'y']\n",
            "24 :  ['b', 'g', 'r', 'm', '2', 'P']\n",
            "25 :  ['7', 'V', 'S', 'N', 'R', 'E', 'p', 'J']\n",
            "26 :  ['T', 'x', 'b', 'U', 'n', '2']\n",
            "27 :  ['c', 'B', '3', 'I', 't', 'D']\n",
            "28 :  ['L', 'B', 'n', 'x', 'S', 'd']\n",
            "29 :  ['7', 'Q', 'x', 'z', 'q', 'b']\n",
            "30 :  ['k', 'g', 'R', '1', 'O', 'B', 'u']\n",
            "31 :  ['V', 'P', 's', 'F', 'n', 'i', 'l']\n",
            "32 :  ['B', 'a', '1', 'f', '3', 'm']\n",
            "33 :  ['A', '3', 'T', 'i', 'W', 'P', 'n', 'r']\n",
            "34 :  ['z', 'c', 'L', 'v', 'j', 'Y']\n",
            "35 :  ['H', 'i', 'T', 'O', 'A', 'c']\n",
            "36 :  ['o', 'M', '1', 'd', 'H', 'a']\n",
            "37 :  ['x', 'B', 'c', 'S', 'j', 'q', 'O', 'U']\n",
            "38 :  ['K', 'H', 'h', '3', 'F', '1', 'Y', '0']\n",
            "39 :  ['e', 'v', '0', 'x', 'Z', 'z', 'b', 'R']\n",
            "40 :  ['h', 'g', 'Q', 'W', 'd', 'U', '4', 'r']\n",
            "41 :  ['S', 'y', 'r', 'F', 'K', 'j']\n",
            "42 :  ['O', 'A', 'i', 'w', '1', 'F', 'P', 'G']\n",
            "43 :  ['Y', '7', 'y', 'u', 'j', 'Z']\n",
            "44 :  ['I', 'Y', 'M', 'Z', 'k', 'W', 'R', 'g']\n",
            "45 :  ['H', '3', '6', 'r', 'A', 'j']\n",
            "46 :  ['L', 'H', '8', 'v', 'I', '7', 'g', 'b']\n",
            "47 :  ['r', 'I', 'Y', 'E', 'k', 'T']\n",
            "48 :  ['O', '1', 'F', 'y', 'k', 'Y', 'm', 'E']\n",
            "49 :  ['i', 'Y', '0', 'y', 'k', 'q', 'X']\n",
            "50 :  ['X', 'A', 'e', 'O', '6', 'E', 'V']\n",
            "51 :  ['v', 'A', 'F', 'z', 'B', 'x', 's', '9']\n",
            "52 :  ['j', 'r', 'b', 'f', '8', 'I']\n",
            "53 :  ['T', 'G', 'R', '9', 'W', 'c', 'h']\n",
            "54 :  ['3', 'c', 'b', 'J', 'C', 'E']\n",
            "55 :  ['B', 'O', 'd', 'l', 'M', 'Z', 'E']\n",
            "56 :  ['b', 'A', 'W', 'g', 'q', 'y', 'w', '0']\n",
            "57 :  ['F', '3', 'h', 'G', 'f', 'U']\n",
            "58 :  ['0', 'e', 'b', 'R', 'l', '1']\n",
            "59 :  ['U', 'e', 'M', 'r', 'O', 'B', 'F', '8']\n",
            "60 :  ['H', 'W', 'Z', 'q', 'M', '1', 'D', '7']\n",
            "61 :  ['V', 'e', '0', '1', 'H', 'T', 't']\n",
            "62 :  ['R', 'I', '6', 'w', 'a', 'k', 'S', 'G']\n",
            "63 :  ['u', 'O', 'K', 'v', '6', 'w', 'S']\n",
            "64 :  ['f', 'i', 'K', '7', 'k', 'e']\n",
            "65 :  ['A', 'e', 'U', 'I', 'X', '4']\n",
            "66 :  ['S', 's', 't', 'n', 'Y', 'V']\n",
            "67 :  ['U', 'u', 'H', 'S', 'Y', 'X', 'l']\n",
            "68 :  ['a', 'L', 'q', 'I', '5', '9', 's', 'J']\n",
            "69 :  ['O', 'P', 'G', 'S', 'z', 'D', 'i']\n",
            "70 :  ['4', '1', 'F', '3', 'w', 'i', 'A', 'L']\n",
            "71 :  ['I', 'y', 'V', 'P', 'M', '2', 'k']\n",
            "72 :  ['4', 'H', 'B', '0', 'N', 'k']\n",
            "73 :  ['5', 'B', 'C', 'Y', 'd', '3', '6', 'm']\n",
            "74 :  ['Y', 'B', 'I', 'a', 'w', 'z', 'O', '5']\n",
            "75 :  ['q', 'M', 'o', 'W', 'v', 'd']\n",
            "76 :  ['q', 'I', '7', 'K', 'S', 'U', 'E', 'D']\n",
            "77 :  ['0', 'F', 'X', 'k', 'v', 'm', 'q']\n",
            "78 :  ['m', 'M', 'c', 'u', 'W', '3']\n",
            "79 :  ['0', 'M', 'U', 'H', 'L', 'x']\n",
            "80 :  ['0', '9', 'L', 'v', 'i', 'h']\n",
            "81 :  ['6', 'r', 'i', 'n', 'Z', 'V', 'H', 'M']\n",
            "82 :  ['u', 'D', 'P', 'R', 'z', 'e', 'r']\n",
            "83 :  ['S', 'D', 'C', '8', '4', 'd', '6', '0']\n",
            "84 :  ['E', 'F', 'c', 'h', '4', 'M']\n",
            "85 :  ['F', 'm', 'u', 'z', 'q', 'o']\n",
            "86 :  ['A', '9', 'M', 'a', 'l', 'B']\n",
            "87 :  ['u', 'J', 'Z', '7', 'b', 'U', 'T', 'V']\n",
            "88 :  ['T', 'c', 'b', 'Y', 'v', 'r']\n",
            "89 :  ['6', 'W', '1', 'N', 'l', 'f', 'y']\n",
            "90 :  ['z', 'c', 'U', 'd', '5', '8', 'A', 'n']\n",
            "91 :  ['U', 'm', 'P', 'I', 'b', 'a', 'H', 'p']\n",
            "92 :  ['o', 'b', 'V', 'f', 'h', 'D', 'z']\n",
            "93 :  ['7', 'Z', 'f', 'r', 'n', 'b', 'h']\n",
            "94 :  ['K', 'D', 'y', 'x', 'n', 'R', 'I', 'o']\n",
            "95 :  ['Z', 'W', '1', 'Q', 'C', 'G']\n",
            "96 :  ['r', 'p', 'y', 'Z', 'b', 'w']\n",
            "97 :  ['z', '2', 'p', 'g', 'l', 'X']\n",
            "98 :  ['m', 'H', 'z', 'p', 'x', 'v', 'L', 't']\n",
            "99 :  ['o', 'S', '4', 'K', 'm', 'T', 'n', 'b']\n",
            "100 :  ['W', 'j', 'Q', 'P', '6', 'q', 'r', 'u']\n"
          ]
        }
      ]
    },
    {
      "cell_type": "markdown",
      "source": [
        "4.2 prime numbers between 600 and 800"
      ],
      "metadata": {
        "id": "obS66ufOwXb8"
      }
    },
    {
      "cell_type": "code",
      "source": [
        "def isPrime(n):\n",
        "  for i in range(2,n//2+1):\n",
        "    if(n%i==0):\n",
        "      return False\n",
        "  return True"
      ],
      "metadata": {
        "id": "4Z3Qp3OmvAaw"
      },
      "execution_count": 146,
      "outputs": []
    },
    {
      "cell_type": "code",
      "source": [
        "for i in range(600,801):\n",
        "  ans=isPrime(i)\n",
        "\n",
        "  if(ans):\n",
        "    print(i)"
      ],
      "metadata": {
        "colab": {
          "base_uri": "https://localhost:8080/"
        },
        "id": "jYi31qb2viXc",
        "outputId": "f97aa176-4b3e-4602-fbb3-a0951d6a3938"
      },
      "execution_count": 147,
      "outputs": [
        {
          "output_type": "stream",
          "name": "stdout",
          "text": [
            "601\n",
            "607\n",
            "613\n",
            "617\n",
            "619\n",
            "631\n",
            "641\n",
            "643\n",
            "647\n",
            "653\n",
            "659\n",
            "661\n",
            "673\n",
            "677\n",
            "683\n",
            "691\n",
            "701\n",
            "709\n",
            "719\n",
            "727\n",
            "733\n",
            "739\n",
            "743\n",
            "751\n",
            "757\n",
            "761\n",
            "769\n",
            "773\n",
            "787\n",
            "797\n"
          ]
        }
      ]
    },
    {
      "cell_type": "markdown",
      "source": [
        "4.3 all numbers div by 7 and 9"
      ],
      "metadata": {
        "id": "bi7pG0t9wTW2"
      }
    },
    {
      "cell_type": "code",
      "source": [
        "def isDiv(n):\n",
        "  if(n%7==0 and n%9==0):\n",
        "    return True\n",
        "  return False"
      ],
      "metadata": {
        "id": "9qa7sBjdwQHQ"
      },
      "execution_count": 148,
      "outputs": []
    },
    {
      "cell_type": "code",
      "source": [
        "for i in range(100,1001):\n",
        "  ans=isDiv(i)\n",
        "  if(ans):\n",
        "    print(i)\n",
        "\n"
      ],
      "metadata": {
        "colab": {
          "base_uri": "https://localhost:8080/"
        },
        "id": "Z9cUBnhew1sh",
        "outputId": "e3b19c79-b71b-427e-95e9-62347cdc0b03"
      },
      "execution_count": 149,
      "outputs": [
        {
          "output_type": "stream",
          "name": "stdout",
          "text": [
            "126\n",
            "189\n",
            "252\n",
            "315\n",
            "378\n",
            "441\n",
            "504\n",
            "567\n",
            "630\n",
            "693\n",
            "756\n",
            "819\n",
            "882\n",
            "945\n"
          ]
        }
      ]
    },
    {
      "cell_type": "markdown",
      "source": [
        "##5"
      ],
      "metadata": {
        "id": "3GDcOVZ4xm7W"
      }
    },
    {
      "cell_type": "code",
      "source": [
        "A = range(10,31)\n",
        "\n",
        "L1=r.sample(A,10)\n",
        "print(L1)"
      ],
      "metadata": {
        "colab": {
          "base_uri": "https://localhost:8080/"
        },
        "id": "wQneQhpLxoHq",
        "outputId": "07c33172-ad87-45fa-fa90-8d010367b302"
      },
      "execution_count": 150,
      "outputs": [
        {
          "output_type": "stream",
          "name": "stdout",
          "text": [
            "[16, 26, 29, 28, 14, 13, 11, 20, 18, 30]\n"
          ]
        }
      ]
    },
    {
      "cell_type": "code",
      "source": [
        "L2=r.sample(A,10)\n",
        "print(L2)"
      ],
      "metadata": {
        "colab": {
          "base_uri": "https://localhost:8080/"
        },
        "id": "mUZpc2VBx8HK",
        "outputId": "ce6e2b66-90ab-499d-cd70-6edb8084211e"
      },
      "execution_count": 151,
      "outputs": [
        {
          "output_type": "stream",
          "name": "stdout",
          "text": [
            "[22, 26, 29, 14, 11, 25, 27, 13, 30, 19]\n"
          ]
        }
      ]
    },
    {
      "cell_type": "markdown",
      "source": [
        "common numbers in both the lists"
      ],
      "metadata": {
        "id": "eD0bKzb01A6o"
      }
    },
    {
      "cell_type": "code",
      "source": [
        "inters=list(set(L1).intersection(L2))\n",
        "print(inters)"
      ],
      "metadata": {
        "colab": {
          "base_uri": "https://localhost:8080/"
        },
        "id": "tXunZwpUzVGU",
        "outputId": "7879d711-43d0-49c8-e510-246fd4c13f4b"
      },
      "execution_count": 152,
      "outputs": [
        {
          "output_type": "stream",
          "name": "stdout",
          "text": [
            "[11, 13, 14, 26, 29, 30]\n"
          ]
        }
      ]
    },
    {
      "cell_type": "markdown",
      "source": [
        "5.2 unique numbers in both the lists"
      ],
      "metadata": {
        "id": "UkRT3Wfb1FwP"
      }
    },
    {
      "cell_type": "code",
      "source": [
        "# a = set('abracadabra')\n",
        "# b = set('alacazam')\n",
        "\n",
        "#  a                                  # unique letters in a\n",
        "# {'a', 'r', 'b', 'c', 'd'}\n",
        "\n",
        "\n",
        "#  a - b                              # letters in a but not in b\n",
        "# {'r', 'd', 'b'}\n",
        "\n",
        "\n",
        "#  a | b                              # letters in a or b or both\n",
        "# {'a', 'c', 'r', 'd', 'b', 'm', 'z', 'l'}\n",
        "\n",
        "\n",
        "#  a & b                              # letters in both a and b\n",
        "# {'a', 'c'}\n",
        "\n",
        "\n",
        "#  a ^ b                              # letters in a or b but not both\n",
        "# {'r', 'd', 'b', 'm', 'z', 'l'}"
      ],
      "metadata": {
        "id": "EXf7FXG11JkM"
      },
      "execution_count": 153,
      "outputs": []
    },
    {
      "cell_type": "code",
      "source": [
        "unique_values=list(set(L1)|set(L2) - set(L1)&set(L2))\n",
        "print(unique_values)"
      ],
      "metadata": {
        "colab": {
          "base_uri": "https://localhost:8080/"
        },
        "id": "gtkU1nPx2Xr2",
        "outputId": "26c712a3-8818-4e6f-9d47-be3c4e40557c"
      },
      "execution_count": 154,
      "outputs": [
        {
          "output_type": "stream",
          "name": "stdout",
          "text": [
            "[11, 13, 14, 16, 18, 19, 20, 22, 25, 26, 27, 28, 29, 30]\n"
          ]
        }
      ]
    },
    {
      "cell_type": "code",
      "source": [
        "Uni_val=list(set(L1+L2))\n",
        "print(Uni_val)"
      ],
      "metadata": {
        "colab": {
          "base_uri": "https://localhost:8080/"
        },
        "id": "p5wmRR_u3rce",
        "outputId": "888dbe03-b600-45b3-f3bf-03b83485185e"
      },
      "execution_count": 157,
      "outputs": [
        {
          "output_type": "stream",
          "name": "stdout",
          "text": [
            "[11, 13, 14, 16, 18, 19, 20, 22, 25, 26, 27, 28, 29, 30]\n"
          ]
        }
      ]
    },
    {
      "cell_type": "markdown",
      "source": [
        "5.3 min in both the list"
      ],
      "metadata": {
        "id": "wj7mjQyTAiaa"
      }
    },
    {
      "cell_type": "code",
      "source": [
        "L3=L1+L2"
      ],
      "metadata": {
        "id": "jbWYQ1TTAkfb"
      },
      "execution_count": 158,
      "outputs": []
    },
    {
      "cell_type": "code",
      "source": [
        "L3.sort()\n",
        "print(L3[0])"
      ],
      "metadata": {
        "colab": {
          "base_uri": "https://localhost:8080/"
        },
        "id": "SxiRA6nnAsVX",
        "outputId": "3b6c217e-bfc5-4c3c-e68d-05e09b67dfb2"
      },
      "execution_count": 161,
      "outputs": [
        {
          "output_type": "stream",
          "name": "stdout",
          "text": [
            "11\n"
          ]
        }
      ]
    },
    {
      "cell_type": "markdown",
      "source": [
        "5.4 max in both the list"
      ],
      "metadata": {
        "id": "yY8XzyO6A_Rh"
      }
    },
    {
      "cell_type": "code",
      "source": [
        "size=len(L3)\n",
        "print(size)"
      ],
      "metadata": {
        "colab": {
          "base_uri": "https://localhost:8080/"
        },
        "id": "PKPy3i_JBBLt",
        "outputId": "8527449d-1a96-4d86-bafc-aba7bff0e7b5"
      },
      "execution_count": 163,
      "outputs": [
        {
          "output_type": "stream",
          "name": "stdout",
          "text": [
            "20\n"
          ]
        }
      ]
    },
    {
      "cell_type": "code",
      "source": [
        "print(L3[19])"
      ],
      "metadata": {
        "colab": {
          "base_uri": "https://localhost:8080/"
        },
        "id": "ifK5-j4MBGJj",
        "outputId": "cda920f3-e4fb-47b6-8796-ea45ce019ca4"
      },
      "execution_count": 167,
      "outputs": [
        {
          "output_type": "stream",
          "name": "stdout",
          "text": [
            "30\n"
          ]
        }
      ]
    },
    {
      "cell_type": "markdown",
      "source": [
        "sum of both the list"
      ],
      "metadata": {
        "id": "c21FZkStBPVp"
      }
    },
    {
      "cell_type": "code",
      "source": [
        "print(L1)\n",
        "print(L2)"
      ],
      "metadata": {
        "colab": {
          "base_uri": "https://localhost:8080/"
        },
        "id": "Rpjsy_i5CvqZ",
        "outputId": "c6ab43fb-8a17-4f65-db52-b082c7325eb9"
      },
      "execution_count": 169,
      "outputs": [
        {
          "output_type": "stream",
          "name": "stdout",
          "text": [
            "[16, 26, 29, 28, 14, 13, 11, 20, 18, 30]\n",
            "[22, 26, 29, 14, 11, 25, 27, 13, 30, 19]\n"
          ]
        }
      ]
    },
    {
      "cell_type": "code",
      "source": [
        "FL=[]\n",
        "for i in range(0,len(L1)):\n",
        "  FL.append(L1[i]+L2[i])\n",
        "print(FL)"
      ],
      "metadata": {
        "colab": {
          "base_uri": "https://localhost:8080/"
        },
        "id": "lJIIbgpWBRe8",
        "outputId": "12221b78-7d27-4958-e356-25d560f73a32"
      },
      "execution_count": 168,
      "outputs": [
        {
          "output_type": "stream",
          "name": "stdout",
          "text": [
            "[38, 52, 58, 42, 25, 38, 38, 33, 48, 49]\n"
          ]
        }
      ]
    },
    {
      "cell_type": "markdown",
      "source": [
        "##6"
      ],
      "metadata": {
        "id": "VcQ9zoeSC2zP"
      }
    },
    {
      "cell_type": "code",
      "source": [
        "B=range(100,901)"
      ],
      "metadata": {
        "id": "nqSZT8lUC4BL"
      },
      "execution_count": 172,
      "outputs": []
    },
    {
      "cell_type": "code",
      "source": [
        "L4=r.sample(B,100)\n",
        "print(L4)"
      ],
      "metadata": {
        "colab": {
          "base_uri": "https://localhost:8080/"
        },
        "id": "T-eb7lVjDRQl",
        "outputId": "2c158dac-7c23-4649-fde4-cdc5d87e8b08"
      },
      "execution_count": 179,
      "outputs": [
        {
          "output_type": "stream",
          "name": "stdout",
          "text": [
            "[662, 162, 611, 320, 787, 700, 161, 151, 276, 239, 767, 329, 880, 613, 166, 851, 431, 333, 170, 315, 378, 377, 353, 127, 651, 635, 313, 177, 864, 116, 295, 142, 392, 152, 752, 789, 605, 204, 897, 114, 440, 860, 456, 113, 252, 153, 557, 111, 506, 666, 550, 267, 155, 762, 146, 446, 103, 512, 464, 668, 754, 471, 348, 217, 383, 263, 803, 134, 657, 475, 761, 322, 362, 369, 792, 751, 589, 462, 736, 496, 240, 555, 526, 364, 746, 882, 121, 489, 226, 210, 816, 778, 225, 180, 533, 207, 237, 592, 249, 627]\n"
          ]
        }
      ]
    },
    {
      "cell_type": "code",
      "source": [
        "print(len(L4))"
      ],
      "metadata": {
        "colab": {
          "base_uri": "https://localhost:8080/"
        },
        "id": "FlpnuDboDkSS",
        "outputId": "1d7b4b1e-55e7-4be7-d066-401635c958fe"
      },
      "execution_count": 178,
      "outputs": [
        {
          "output_type": "stream",
          "name": "stdout",
          "text": [
            "100\n"
          ]
        }
      ]
    },
    {
      "cell_type": "markdown",
      "source": [
        "count and print: all odd numbers"
      ],
      "metadata": {
        "id": "JZrAcWUeDobL"
      }
    },
    {
      "cell_type": "code",
      "source": [
        "cnt=0\n",
        "\n",
        "for i in range(len(L4)):\n",
        "  if(L4[i]%2!=0):\n",
        "    cnt+=1\n",
        "    print(L4[i])\n",
        "\n",
        "print(\"Count: \",cnt)"
      ],
      "metadata": {
        "colab": {
          "base_uri": "https://localhost:8080/"
        },
        "collapsed": true,
        "id": "lj01VdzVDnjW",
        "outputId": "250ae9d6-2d31-402c-ce2c-01378dee2779"
      },
      "execution_count": 183,
      "outputs": [
        {
          "output_type": "stream",
          "name": "stdout",
          "text": [
            "611\n",
            "787\n",
            "161\n",
            "151\n",
            "239\n",
            "767\n",
            "329\n",
            "613\n",
            "851\n",
            "431\n",
            "333\n",
            "315\n",
            "377\n",
            "353\n",
            "127\n",
            "651\n",
            "635\n",
            "313\n",
            "177\n",
            "295\n",
            "789\n",
            "605\n",
            "897\n",
            "113\n",
            "153\n",
            "557\n",
            "111\n",
            "267\n",
            "155\n",
            "103\n",
            "471\n",
            "217\n",
            "383\n",
            "263\n",
            "803\n",
            "657\n",
            "475\n",
            "761\n",
            "369\n",
            "751\n",
            "589\n",
            "555\n",
            "121\n",
            "489\n",
            "225\n",
            "533\n",
            "207\n",
            "237\n",
            "249\n",
            "627\n",
            "Count:  50\n"
          ]
        }
      ]
    },
    {
      "cell_type": "markdown",
      "source": [
        "count and print all even numbers"
      ],
      "metadata": {
        "id": "pSAnZ97yFTy3"
      }
    },
    {
      "cell_type": "code",
      "source": [
        "cnte=0\n",
        "\n",
        "for i in range(len(L4)):\n",
        "  if(L4[i]%2==0):\n",
        "    cnte+=1\n",
        "    print(L4[i])\n",
        "\n",
        "print(\"Count: \",cnte)"
      ],
      "metadata": {
        "colab": {
          "base_uri": "https://localhost:8080/"
        },
        "collapsed": true,
        "id": "UFptWpLEFVzI",
        "outputId": "e43ed81f-3368-4fb3-bf23-3e592732697b"
      },
      "execution_count": 184,
      "outputs": [
        {
          "output_type": "stream",
          "name": "stdout",
          "text": [
            "662\n",
            "162\n",
            "320\n",
            "700\n",
            "276\n",
            "880\n",
            "166\n",
            "170\n",
            "378\n",
            "864\n",
            "116\n",
            "142\n",
            "392\n",
            "152\n",
            "752\n",
            "204\n",
            "114\n",
            "440\n",
            "860\n",
            "456\n",
            "252\n",
            "506\n",
            "666\n",
            "550\n",
            "762\n",
            "146\n",
            "446\n",
            "512\n",
            "464\n",
            "668\n",
            "754\n",
            "348\n",
            "134\n",
            "322\n",
            "362\n",
            "792\n",
            "462\n",
            "736\n",
            "496\n",
            "240\n",
            "526\n",
            "364\n",
            "746\n",
            "882\n",
            "226\n",
            "210\n",
            "816\n",
            "778\n",
            "180\n",
            "592\n",
            "Count:  50\n"
          ]
        }
      ]
    },
    {
      "cell_type": "markdown",
      "source": [
        "count and print all prime numbers"
      ],
      "metadata": {
        "id": "vnib4MutFgCx"
      }
    },
    {
      "cell_type": "code",
      "source": [
        "cntp=0\n",
        "flag=0\n",
        "\n",
        "for i in range(len(L4)):\n",
        "  flag=0\n",
        "  for j in range(2,L4[i]//2+1):\n",
        "    if(L4[i]%j==0):\n",
        "      flag=1\n",
        "      break\n",
        "  if(flag==0):\n",
        "    cntp+=1\n",
        "    print(L4[i])\n",
        "\n",
        "print(\"Count of all prime numbers: \",cntp)"
      ],
      "metadata": {
        "colab": {
          "base_uri": "https://localhost:8080/"
        },
        "id": "TpgDHAGXFieW",
        "outputId": "86f11c5c-affd-4e82-f7d1-399e391d9f8e"
      },
      "execution_count": 186,
      "outputs": [
        {
          "output_type": "stream",
          "name": "stdout",
          "text": [
            "787\n",
            "151\n",
            "239\n",
            "613\n",
            "431\n",
            "353\n",
            "127\n",
            "313\n",
            "113\n",
            "557\n",
            "103\n",
            "383\n",
            "263\n",
            "761\n",
            "751\n",
            "Count of all prime numbers:  15\n"
          ]
        }
      ]
    },
    {
      "cell_type": "markdown",
      "source": [
        "##7"
      ],
      "metadata": {
        "id": "e8bkfB0sHzDe"
      }
    },
    {
      "cell_type": "code",
      "source": [
        "D={1:\"One\",2:\"Two\",3:\"Three\",4:\"Four\",5:\"Five\"}"
      ],
      "metadata": {
        "id": "WMAay-VCH0gk"
      },
      "execution_count": 187,
      "outputs": []
    },
    {
      "cell_type": "code",
      "source": [
        "for i in D:\n",
        "  print(\"Key->\", i ,\"Value->\",D[i])"
      ],
      "metadata": {
        "colab": {
          "base_uri": "https://localhost:8080/"
        },
        "id": "2Afe_JK8IX6y",
        "outputId": "bed2c90c-c767-4da6-8288-6f0389075679"
      },
      "execution_count": 188,
      "outputs": [
        {
          "output_type": "stream",
          "name": "stdout",
          "text": [
            "Key-> 1 Value-> One\n",
            "Key-> 2 Value-> Two\n",
            "Key-> 3 Value-> Three\n",
            "Key-> 4 Value-> Four\n",
            "Key-> 5 Value-> Five\n"
          ]
        }
      ]
    },
    {
      "cell_type": "code",
      "source": [
        "str=()\n",
        "fp=open('Dict_value.txt','w')\t# Open the file in writing mode\n",
        "for i in D:\n",
        "  str=[i,D[i]]\n",
        "  fp.write(str)\n",
        "  # fp.write(i,D[i] +\"\\n\")\t# Writing to the file line by line\n",
        "fp.close()\n",
        "\n",
        "print (\"Writing done !! \\nOpen Dict_value.txt to view the content\")"
      ],
      "metadata": {
        "colab": {
          "base_uri": "https://localhost:8080/",
          "height": 211
        },
        "id": "pOgHusOUI2bh",
        "outputId": "87ac09d6-4a2d-409e-910b-99b4cc5484a6"
      },
      "execution_count": 205,
      "outputs": [
        {
          "output_type": "error",
          "ename": "NameError",
          "evalue": "name 'string' is not defined",
          "traceback": [
            "\u001b[0;31m---------------------------------------------------------------------------\u001b[0m",
            "\u001b[0;31mNameError\u001b[0m                                 Traceback (most recent call last)",
            "\u001b[0;32m<ipython-input-205-216f8a1de6dd>\u001b[0m in \u001b[0;36m<cell line: 3>\u001b[0;34m()\u001b[0m\n\u001b[1;32m      2\u001b[0m \u001b[0mfp\u001b[0m\u001b[0;34m=\u001b[0m\u001b[0mopen\u001b[0m\u001b[0;34m(\u001b[0m\u001b[0;34m'Dict_value.txt'\u001b[0m\u001b[0;34m,\u001b[0m\u001b[0;34m'w'\u001b[0m\u001b[0;34m)\u001b[0m   \u001b[0;31m# Open the file in writing mode\u001b[0m\u001b[0;34m\u001b[0m\u001b[0;34m\u001b[0m\u001b[0m\n\u001b[1;32m      3\u001b[0m \u001b[0;32mfor\u001b[0m \u001b[0mi\u001b[0m \u001b[0;32min\u001b[0m \u001b[0mD\u001b[0m\u001b[0;34m:\u001b[0m\u001b[0;34m\u001b[0m\u001b[0;34m\u001b[0m\u001b[0m\n\u001b[0;32m----> 4\u001b[0;31m   \u001b[0mstr\u001b[0m\u001b[0;34m=\u001b[0m\u001b[0mstring\u001b[0m\u001b[0;34m[\u001b[0m\u001b[0mi\u001b[0m\u001b[0;34m,\u001b[0m\u001b[0mD\u001b[0m\u001b[0;34m[\u001b[0m\u001b[0mi\u001b[0m\u001b[0;34m]\u001b[0m\u001b[0;34m]\u001b[0m\u001b[0;34m\u001b[0m\u001b[0;34m\u001b[0m\u001b[0m\n\u001b[0m\u001b[1;32m      5\u001b[0m   \u001b[0mfp\u001b[0m\u001b[0;34m.\u001b[0m\u001b[0mwrite\u001b[0m\u001b[0;34m(\u001b[0m\u001b[0mstr\u001b[0m\u001b[0;34m)\u001b[0m\u001b[0;34m\u001b[0m\u001b[0;34m\u001b[0m\u001b[0m\n\u001b[1;32m      6\u001b[0m   \u001b[0;31m# fp.write(i,D[i] +\"\\n\")      # Writing to the file line by line\u001b[0m\u001b[0;34m\u001b[0m\u001b[0;34m\u001b[0m\u001b[0m\n",
            "\u001b[0;31mNameError\u001b[0m: name 'string' is not defined"
          ]
        }
      ]
    },
    {
      "cell_type": "markdown",
      "source": [
        "##8"
      ],
      "metadata": {
        "id": "RxJAwWd-Lfov"
      }
    },
    {
      "cell_type": "code",
      "source": [
        "L5={\"One\",\"Two\",\"Three\",\"Four\",\"Five\"}"
      ],
      "metadata": {
        "id": "IgtRv-vvLewZ"
      },
      "execution_count": 206,
      "outputs": []
    },
    {
      "cell_type": "code",
      "source": [
        "print(L5)"
      ],
      "metadata": {
        "colab": {
          "base_uri": "https://localhost:8080/"
        },
        "id": "VojKaRtFMnF0",
        "outputId": "68b25027-f757-4df8-ea66-42da28ef1408"
      },
      "execution_count": 210,
      "outputs": [
        {
          "output_type": "stream",
          "name": "stdout",
          "text": [
            "{'One', 'Three', 'Five', 'Two', 'Four'}\n"
          ]
        }
      ]
    },
    {
      "cell_type": "code",
      "source": [
        "str=\"\"\n",
        "\n",
        "for ele in L5:\n",
        "  str+=ele\n",
        "  str=str+\" \"\n",
        "\n",
        "print(str)"
      ],
      "metadata": {
        "colab": {
          "base_uri": "https://localhost:8080/"
        },
        "id": "qWAOL3PZMBVt",
        "outputId": "bd38d13e-855f-4155-f6e5-576e9c09803a"
      },
      "execution_count": 211,
      "outputs": [
        {
          "output_type": "stream",
          "name": "stdout",
          "text": [
            "One Three Five Two Four \n"
          ]
        }
      ]
    },
    {
      "cell_type": "code",
      "source": [
        "rev_str=str[::-1]"
      ],
      "metadata": {
        "id": "nelgXVMxO-HF"
      },
      "execution_count": 218,
      "outputs": []
    },
    {
      "cell_type": "code",
      "source": [
        "# from logging import NullHandler\n",
        "count=1\n",
        "ans=\"\"\n",
        "i=0\n",
        "\n",
        "for i in range(0,len(str)):\n",
        "  count+=1\n",
        "  ans=ans+str[i]\n",
        "  i+=1\n",
        "  if(str[i]==\" \"):\n",
        "    print(ans,\"\",count-1)\n",
        "    # print(count-1)\n",
        "    count=0\n",
        "    ans=\"\"\n",
        "\n"
      ],
      "metadata": {
        "colab": {
          "base_uri": "https://localhost:8080/",
          "height": 297
        },
        "id": "-Bl53akRNCO-",
        "outputId": "25f27a0c-55e1-4c75-ac8e-47f918c3a013"
      },
      "execution_count": 228,
      "outputs": [
        {
          "output_type": "stream",
          "name": "stdout",
          "text": [
            "One  3\n",
            " Three  5\n",
            " Five  4\n",
            " Two  3\n",
            " Four  4\n"
          ]
        },
        {
          "output_type": "error",
          "ename": "IndexError",
          "evalue": "string index out of range",
          "traceback": [
            "\u001b[0;31m---------------------------------------------------------------------------\u001b[0m",
            "\u001b[0;31mIndexError\u001b[0m                                Traceback (most recent call last)",
            "\u001b[0;32m<ipython-input-228-57d86d01b60e>\u001b[0m in \u001b[0;36m<cell line: 6>\u001b[0;34m()\u001b[0m\n\u001b[1;32m      8\u001b[0m   \u001b[0mans\u001b[0m\u001b[0;34m=\u001b[0m\u001b[0mans\u001b[0m\u001b[0;34m+\u001b[0m\u001b[0mstr\u001b[0m\u001b[0;34m[\u001b[0m\u001b[0mi\u001b[0m\u001b[0;34m]\u001b[0m\u001b[0;34m\u001b[0m\u001b[0;34m\u001b[0m\u001b[0m\n\u001b[1;32m      9\u001b[0m   \u001b[0mi\u001b[0m\u001b[0;34m+=\u001b[0m\u001b[0;36m1\u001b[0m\u001b[0;34m\u001b[0m\u001b[0;34m\u001b[0m\u001b[0m\n\u001b[0;32m---> 10\u001b[0;31m   \u001b[0;32mif\u001b[0m\u001b[0;34m(\u001b[0m\u001b[0mstr\u001b[0m\u001b[0;34m[\u001b[0m\u001b[0mi\u001b[0m\u001b[0;34m]\u001b[0m\u001b[0;34m==\u001b[0m\u001b[0;34m\" \"\u001b[0m\u001b[0;34m)\u001b[0m\u001b[0;34m:\u001b[0m\u001b[0;34m\u001b[0m\u001b[0;34m\u001b[0m\u001b[0m\n\u001b[0m\u001b[1;32m     11\u001b[0m     \u001b[0mprint\u001b[0m\u001b[0;34m(\u001b[0m\u001b[0mans\u001b[0m\u001b[0;34m,\u001b[0m\u001b[0;34m\"\"\u001b[0m\u001b[0;34m,\u001b[0m\u001b[0mcount\u001b[0m\u001b[0;34m-\u001b[0m\u001b[0;36m1\u001b[0m\u001b[0;34m)\u001b[0m\u001b[0;34m\u001b[0m\u001b[0;34m\u001b[0m\u001b[0m\n\u001b[1;32m     12\u001b[0m     \u001b[0;31m# print(count-1)\u001b[0m\u001b[0;34m\u001b[0m\u001b[0;34m\u001b[0m\u001b[0m\n",
            "\u001b[0;31mIndexError\u001b[0m: string index out of range"
          ]
        }
      ]
    },
    {
      "cell_type": "markdown",
      "source": [
        "##9"
      ],
      "metadata": {
        "id": "b0eRJS2BRLib"
      }
    },
    {
      "cell_type": "code",
      "source": [
        "C=range(10,15)"
      ],
      "metadata": {
        "id": "3h9ZL2l3RMmp"
      },
      "execution_count": 229,
      "outputs": []
    },
    {
      "cell_type": "code",
      "source": [
        "import string as s\n",
        "import random as r"
      ],
      "metadata": {
        "id": "nb4emoPZRZi-"
      },
      "execution_count": 230,
      "outputs": []
    },
    {
      "cell_type": "code",
      "source": [
        "exmp=s.ascii_letters\n",
        "print(exmp)"
      ],
      "metadata": {
        "colab": {
          "base_uri": "https://localhost:8080/"
        },
        "id": "Le_ibT9RSC5q",
        "outputId": "94ca27d7-2269-4ea6-f665-a03279f13e96"
      },
      "execution_count": 233,
      "outputs": [
        {
          "output_type": "stream",
          "name": "stdout",
          "text": [
            "abcdefghijklmnopqrstuvwxyzABCDEFGHIJKLMNOPQRSTUVWXYZ\n"
          ]
        }
      ]
    },
    {
      "cell_type": "code",
      "source": [
        "# print(r.sample(s.ascii_letters,100))"
      ],
      "metadata": {
        "colab": {
          "base_uri": "https://localhost:8080/",
          "height": 263
        },
        "id": "-JP8F-fbRgFP",
        "outputId": "a03ff2b1-2ff0-4274-9aac-564ca8879fe7"
      },
      "execution_count": 235,
      "outputs": [
        {
          "output_type": "error",
          "ename": "ValueError",
          "evalue": "Sample larger than population or is negative",
          "traceback": [
            "\u001b[0;31m---------------------------------------------------------------------------\u001b[0m",
            "\u001b[0;31mValueError\u001b[0m                                Traceback (most recent call last)",
            "\u001b[0;32m<ipython-input-235-239d12140485>\u001b[0m in \u001b[0;36m<cell line: 1>\u001b[0;34m()\u001b[0m\n\u001b[0;32m----> 1\u001b[0;31m \u001b[0mprint\u001b[0m\u001b[0;34m(\u001b[0m\u001b[0mr\u001b[0m\u001b[0;34m.\u001b[0m\u001b[0msample\u001b[0m\u001b[0;34m(\u001b[0m\u001b[0ms\u001b[0m\u001b[0;34m.\u001b[0m\u001b[0mascii_letters\u001b[0m\u001b[0;34m,\u001b[0m\u001b[0;36m100\u001b[0m\u001b[0;34m)\u001b[0m\u001b[0;34m)\u001b[0m\u001b[0;34m\u001b[0m\u001b[0;34m\u001b[0m\u001b[0m\n\u001b[0m",
            "\u001b[0;32m/usr/lib/python3.10/random.py\u001b[0m in \u001b[0;36msample\u001b[0;34m(self, population, k, counts)\u001b[0m\n\u001b[1;32m    480\u001b[0m         \u001b[0mrandbelow\u001b[0m \u001b[0;34m=\u001b[0m \u001b[0mself\u001b[0m\u001b[0;34m.\u001b[0m\u001b[0m_randbelow\u001b[0m\u001b[0;34m\u001b[0m\u001b[0;34m\u001b[0m\u001b[0m\n\u001b[1;32m    481\u001b[0m         \u001b[0;32mif\u001b[0m \u001b[0;32mnot\u001b[0m \u001b[0;36m0\u001b[0m \u001b[0;34m<=\u001b[0m \u001b[0mk\u001b[0m \u001b[0;34m<=\u001b[0m \u001b[0mn\u001b[0m\u001b[0;34m:\u001b[0m\u001b[0;34m\u001b[0m\u001b[0;34m\u001b[0m\u001b[0m\n\u001b[0;32m--> 482\u001b[0;31m             \u001b[0;32mraise\u001b[0m \u001b[0mValueError\u001b[0m\u001b[0;34m(\u001b[0m\u001b[0;34m\"Sample larger than population or is negative\"\u001b[0m\u001b[0;34m)\u001b[0m\u001b[0;34m\u001b[0m\u001b[0;34m\u001b[0m\u001b[0m\n\u001b[0m\u001b[1;32m    483\u001b[0m         \u001b[0mresult\u001b[0m \u001b[0;34m=\u001b[0m \u001b[0;34m[\u001b[0m\u001b[0;32mNone\u001b[0m\u001b[0;34m]\u001b[0m \u001b[0;34m*\u001b[0m \u001b[0mk\u001b[0m\u001b[0;34m\u001b[0m\u001b[0;34m\u001b[0m\u001b[0m\n\u001b[1;32m    484\u001b[0m         \u001b[0msetsize\u001b[0m \u001b[0;34m=\u001b[0m \u001b[0;36m21\u001b[0m        \u001b[0;31m# size of a small set minus size of an empty list\u001b[0m\u001b[0;34m\u001b[0m\u001b[0;34m\u001b[0m\u001b[0m\n",
            "\u001b[0;31mValueError\u001b[0m: Sample larger than population or is negative"
          ]
        }
      ]
    }
  ]
}